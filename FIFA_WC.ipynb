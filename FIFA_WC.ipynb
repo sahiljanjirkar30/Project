{
 "cells": [
  {
   "cell_type": "code",
   "execution_count": 1,
   "id": "0ad6b2f6",
   "metadata": {},
   "outputs": [],
   "source": [
    "import requests \n",
    "from bs4 import BeautifulSoup\n",
    "import pandas as pd\n",
    "from matplotlib import pyplot as plt\n",
    "import seaborn as sns"
   ]
  },
  {
   "cell_type": "code",
   "execution_count": 2,
   "id": "afa401cf",
   "metadata": {},
   "outputs": [],
   "source": [
    "import requests \n",
    "from bs4 import BeautifulSoup\n",
    "import pandas as pd\n",
    "\n",
    "url = \"https://www.foxsports.com/soccer/fifa-world-cup/history\"\n",
    "page = requests.get(url)\n",
    "soup = BeautifulSoup(page.text,\"html.parser\")\n",
    "table = soup.find(\"table\",{\"class\":\"wisbb_heStandard\"})\n",
    "\n",
    "headers = []\n",
    "\n",
    "for i in table.find_all(\"th\"):\n",
    "    title = i.text\n",
    "    headers.append(title)\n",
    "\n",
    "df = pd.DataFrame(columns = headers)\n",
    "\n",
    "for row in table.find_all(\"tr\")[1:]:\n",
    "    data = row.find_all(\"td\")\n",
    "    row_data = [i.text.strip() for i in data]\n",
    "    length = len(df)\n",
    "    df.loc[length]= row_data\n",
    "\n",
    "\n",
    "#df.to_csv(\"FIFA_WC.csv\",index=False)"
   ]
  },
  {
   "cell_type": "code",
   "execution_count": 3,
   "id": "0b598e58",
   "metadata": {},
   "outputs": [
    {
     "data": {
      "text/html": [
       "<div>\n",
       "<style scoped>\n",
       "    .dataframe tbody tr th:only-of-type {\n",
       "        vertical-align: middle;\n",
       "    }\n",
       "\n",
       "    .dataframe tbody tr th {\n",
       "        vertical-align: top;\n",
       "    }\n",
       "\n",
       "    .dataframe thead th {\n",
       "        text-align: right;\n",
       "    }\n",
       "</style>\n",
       "<table border=\"1\" class=\"dataframe\">\n",
       "  <thead>\n",
       "    <tr style=\"text-align: right;\">\n",
       "      <th></th>\n",
       "      <th>Year</th>\n",
       "      <th>Host</th>\n",
       "      <th>Champion</th>\n",
       "      <th>Runner Up</th>\n",
       "      <th>Third Place</th>\n",
       "      <th>Teams</th>\n",
       "      <th>Matches Played</th>\n",
       "      <th>Goals Scored</th>\n",
       "      <th>Avg Goals Per Game</th>\n",
       "    </tr>\n",
       "  </thead>\n",
       "  <tbody>\n",
       "    <tr>\n",
       "      <th>0</th>\n",
       "      <td>2018</td>\n",
       "      <td>Russia</td>\n",
       "      <td>France</td>\n",
       "      <td>Croatia</td>\n",
       "      <td>Belgium</td>\n",
       "      <td>32</td>\n",
       "      <td>64</td>\n",
       "      <td>169</td>\n",
       "      <td>2.6</td>\n",
       "    </tr>\n",
       "    <tr>\n",
       "      <th>1</th>\n",
       "      <td>2014</td>\n",
       "      <td>Brazil</td>\n",
       "      <td>Germany</td>\n",
       "      <td>Argentina</td>\n",
       "      <td>Netherlands</td>\n",
       "      <td>32</td>\n",
       "      <td>64</td>\n",
       "      <td>171</td>\n",
       "      <td>2.7</td>\n",
       "    </tr>\n",
       "    <tr>\n",
       "      <th>2</th>\n",
       "      <td>2010</td>\n",
       "      <td>South Africa</td>\n",
       "      <td>Spain</td>\n",
       "      <td>Netherlands</td>\n",
       "      <td>Germany</td>\n",
       "      <td>32</td>\n",
       "      <td>64</td>\n",
       "      <td>145</td>\n",
       "      <td>2.3</td>\n",
       "    </tr>\n",
       "    <tr>\n",
       "      <th>3</th>\n",
       "      <td>2006</td>\n",
       "      <td>Germany</td>\n",
       "      <td>Italy</td>\n",
       "      <td>France</td>\n",
       "      <td>Germany</td>\n",
       "      <td>32</td>\n",
       "      <td>64</td>\n",
       "      <td>147</td>\n",
       "      <td>2.3</td>\n",
       "    </tr>\n",
       "    <tr>\n",
       "      <th>4</th>\n",
       "      <td>2002</td>\n",
       "      <td>South Korea, Japan</td>\n",
       "      <td>Brazil</td>\n",
       "      <td>Germany</td>\n",
       "      <td>Turkey</td>\n",
       "      <td>32</td>\n",
       "      <td>64</td>\n",
       "      <td>161</td>\n",
       "      <td>2.5</td>\n",
       "    </tr>\n",
       "    <tr>\n",
       "      <th>5</th>\n",
       "      <td>1998</td>\n",
       "      <td>France</td>\n",
       "      <td>France</td>\n",
       "      <td>Brazil</td>\n",
       "      <td>Croatia</td>\n",
       "      <td>32</td>\n",
       "      <td>64</td>\n",
       "      <td>171</td>\n",
       "      <td>2.7</td>\n",
       "    </tr>\n",
       "    <tr>\n",
       "      <th>6</th>\n",
       "      <td>1994</td>\n",
       "      <td>United States</td>\n",
       "      <td>Brazil</td>\n",
       "      <td>Italy</td>\n",
       "      <td>Sweden</td>\n",
       "      <td>24</td>\n",
       "      <td>52</td>\n",
       "      <td>141</td>\n",
       "      <td>2.7</td>\n",
       "    </tr>\n",
       "    <tr>\n",
       "      <th>7</th>\n",
       "      <td>1990</td>\n",
       "      <td>Italy</td>\n",
       "      <td>West Germany</td>\n",
       "      <td>Argentina</td>\n",
       "      <td>Italy</td>\n",
       "      <td>24</td>\n",
       "      <td>52</td>\n",
       "      <td>115</td>\n",
       "      <td>2.2</td>\n",
       "    </tr>\n",
       "    <tr>\n",
       "      <th>8</th>\n",
       "      <td>1986</td>\n",
       "      <td>Mexico</td>\n",
       "      <td>Argentina</td>\n",
       "      <td>West Germany</td>\n",
       "      <td>France</td>\n",
       "      <td>24</td>\n",
       "      <td>52</td>\n",
       "      <td>132</td>\n",
       "      <td>2.5</td>\n",
       "    </tr>\n",
       "    <tr>\n",
       "      <th>9</th>\n",
       "      <td>1982</td>\n",
       "      <td>Spain</td>\n",
       "      <td>Italy</td>\n",
       "      <td>West Germany</td>\n",
       "      <td>Poland</td>\n",
       "      <td>24</td>\n",
       "      <td>52</td>\n",
       "      <td>146</td>\n",
       "      <td>2.8</td>\n",
       "    </tr>\n",
       "    <tr>\n",
       "      <th>10</th>\n",
       "      <td>1978</td>\n",
       "      <td>Argentina</td>\n",
       "      <td>Argentina</td>\n",
       "      <td>Netherlands</td>\n",
       "      <td>Brazil</td>\n",
       "      <td>16</td>\n",
       "      <td>38</td>\n",
       "      <td>102</td>\n",
       "      <td>2.7</td>\n",
       "    </tr>\n",
       "    <tr>\n",
       "      <th>11</th>\n",
       "      <td>1974</td>\n",
       "      <td>West Germany</td>\n",
       "      <td>West Germany</td>\n",
       "      <td>Netherlands</td>\n",
       "      <td>Poland</td>\n",
       "      <td>16</td>\n",
       "      <td>38</td>\n",
       "      <td>97</td>\n",
       "      <td>2.6</td>\n",
       "    </tr>\n",
       "    <tr>\n",
       "      <th>12</th>\n",
       "      <td>1970</td>\n",
       "      <td>Mexico</td>\n",
       "      <td>Brazil</td>\n",
       "      <td>Italy</td>\n",
       "      <td>West Germany</td>\n",
       "      <td>16</td>\n",
       "      <td>32</td>\n",
       "      <td>95</td>\n",
       "      <td>3.0</td>\n",
       "    </tr>\n",
       "    <tr>\n",
       "      <th>13</th>\n",
       "      <td>1966</td>\n",
       "      <td>England</td>\n",
       "      <td>England</td>\n",
       "      <td>West Germany</td>\n",
       "      <td>Portugal</td>\n",
       "      <td>16</td>\n",
       "      <td>32</td>\n",
       "      <td>89</td>\n",
       "      <td>2.8</td>\n",
       "    </tr>\n",
       "    <tr>\n",
       "      <th>14</th>\n",
       "      <td>1962</td>\n",
       "      <td>Chile</td>\n",
       "      <td>Brazil</td>\n",
       "      <td>Czechoslovakia</td>\n",
       "      <td>Chile</td>\n",
       "      <td>16</td>\n",
       "      <td>32</td>\n",
       "      <td>89</td>\n",
       "      <td>2.8</td>\n",
       "    </tr>\n",
       "    <tr>\n",
       "      <th>15</th>\n",
       "      <td>1958</td>\n",
       "      <td>Sweden</td>\n",
       "      <td>Brazil</td>\n",
       "      <td>Sweden</td>\n",
       "      <td>France</td>\n",
       "      <td>16</td>\n",
       "      <td>35</td>\n",
       "      <td>126</td>\n",
       "      <td>3.6</td>\n",
       "    </tr>\n",
       "    <tr>\n",
       "      <th>16</th>\n",
       "      <td>1954</td>\n",
       "      <td>Switzerland</td>\n",
       "      <td>West Germany</td>\n",
       "      <td>Hungary</td>\n",
       "      <td>Austria</td>\n",
       "      <td>16</td>\n",
       "      <td>26</td>\n",
       "      <td>140</td>\n",
       "      <td>5.4</td>\n",
       "    </tr>\n",
       "    <tr>\n",
       "      <th>17</th>\n",
       "      <td>1950</td>\n",
       "      <td>Brazil</td>\n",
       "      <td>Uruguay</td>\n",
       "      <td>Brazil</td>\n",
       "      <td>Sweden</td>\n",
       "      <td>13</td>\n",
       "      <td>22</td>\n",
       "      <td>88</td>\n",
       "      <td>4.0</td>\n",
       "    </tr>\n",
       "    <tr>\n",
       "      <th>18</th>\n",
       "      <td>1938</td>\n",
       "      <td>France</td>\n",
       "      <td>Italy</td>\n",
       "      <td>Hungary</td>\n",
       "      <td>Brazil</td>\n",
       "      <td>15</td>\n",
       "      <td>18</td>\n",
       "      <td>84</td>\n",
       "      <td>4.7</td>\n",
       "    </tr>\n",
       "    <tr>\n",
       "      <th>19</th>\n",
       "      <td>1934</td>\n",
       "      <td>Italy</td>\n",
       "      <td>Italy</td>\n",
       "      <td>Czechoslovakia</td>\n",
       "      <td>Germany</td>\n",
       "      <td>16</td>\n",
       "      <td>17</td>\n",
       "      <td>70</td>\n",
       "      <td>4.1</td>\n",
       "    </tr>\n",
       "    <tr>\n",
       "      <th>20</th>\n",
       "      <td>1930</td>\n",
       "      <td>Uruguay</td>\n",
       "      <td>Uruguay</td>\n",
       "      <td>Argentina</td>\n",
       "      <td>United States</td>\n",
       "      <td>13</td>\n",
       "      <td>16</td>\n",
       "      <td>70</td>\n",
       "      <td>3.6</td>\n",
       "    </tr>\n",
       "  </tbody>\n",
       "</table>\n",
       "</div>"
      ],
      "text/plain": [
       "    Year                Host      Champion       Runner Up    Third Place  \\\n",
       "0   2018              Russia        France         Croatia        Belgium   \n",
       "1   2014              Brazil       Germany       Argentina    Netherlands   \n",
       "2   2010        South Africa         Spain     Netherlands        Germany   \n",
       "3   2006             Germany         Italy          France        Germany   \n",
       "4   2002  South Korea, Japan        Brazil         Germany         Turkey   \n",
       "5   1998              France        France          Brazil        Croatia   \n",
       "6   1994       United States        Brazil           Italy         Sweden   \n",
       "7   1990               Italy  West Germany       Argentina          Italy   \n",
       "8   1986              Mexico     Argentina    West Germany         France   \n",
       "9   1982               Spain         Italy    West Germany         Poland   \n",
       "10  1978           Argentina     Argentina     Netherlands         Brazil   \n",
       "11  1974        West Germany  West Germany     Netherlands         Poland   \n",
       "12  1970              Mexico        Brazil           Italy   West Germany   \n",
       "13  1966             England       England    West Germany       Portugal   \n",
       "14  1962               Chile        Brazil  Czechoslovakia          Chile   \n",
       "15  1958              Sweden        Brazil          Sweden         France   \n",
       "16  1954         Switzerland  West Germany         Hungary        Austria   \n",
       "17  1950              Brazil       Uruguay          Brazil         Sweden   \n",
       "18  1938              France         Italy         Hungary         Brazil   \n",
       "19  1934               Italy         Italy  Czechoslovakia        Germany   \n",
       "20  1930             Uruguay       Uruguay       Argentina  United States   \n",
       "\n",
       "   Teams Matches Played Goals Scored Avg Goals Per Game  \n",
       "0     32             64          169                2.6  \n",
       "1     32             64          171                2.7  \n",
       "2     32             64          145                2.3  \n",
       "3     32             64          147                2.3  \n",
       "4     32             64          161                2.5  \n",
       "5     32             64          171                2.7  \n",
       "6     24             52          141                2.7  \n",
       "7     24             52          115                2.2  \n",
       "8     24             52          132                2.5  \n",
       "9     24             52          146                2.8  \n",
       "10    16             38          102                2.7  \n",
       "11    16             38           97                2.6  \n",
       "12    16             32           95                3.0  \n",
       "13    16             32           89                2.8  \n",
       "14    16             32           89                2.8  \n",
       "15    16             35          126                3.6  \n",
       "16    16             26          140                5.4  \n",
       "17    13             22           88                4.0  \n",
       "18    15             18           84                4.7  \n",
       "19    16             17           70                4.1  \n",
       "20    13             16           70                3.6  "
      ]
     },
     "execution_count": 3,
     "metadata": {},
     "output_type": "execute_result"
    }
   ],
   "source": [
    "df"
   ]
  },
  {
   "cell_type": "code",
   "execution_count": 4,
   "id": "a95ec201",
   "metadata": {},
   "outputs": [
    {
     "name": "stdout",
     "output_type": "stream",
     "text": [
      "<class 'pandas.core.frame.DataFrame'>\n",
      "Int64Index: 21 entries, 0 to 20\n",
      "Data columns (total 9 columns):\n",
      " #   Column              Non-Null Count  Dtype \n",
      "---  ------              --------------  ----- \n",
      " 0   Year                21 non-null     object\n",
      " 1   Host                21 non-null     object\n",
      " 2   Champion            21 non-null     object\n",
      " 3   Runner Up           21 non-null     object\n",
      " 4   Third Place         21 non-null     object\n",
      " 5   Teams               21 non-null     object\n",
      " 6   Matches Played      21 non-null     object\n",
      " 7   Goals Scored        21 non-null     object\n",
      " 8   Avg Goals Per Game  21 non-null     object\n",
      "dtypes: object(9)\n",
      "memory usage: 1.6+ KB\n"
     ]
    }
   ],
   "source": [
    "df.info()"
   ]
  },
  {
   "cell_type": "code",
   "execution_count": 5,
   "id": "ffbe7ac4",
   "metadata": {},
   "outputs": [],
   "source": [
    "df[\"Year\"]=df[\"Year\"].astype(int)\n",
    "df[\"Teams\"]=df[\"Teams\"].astype(int)\n",
    "df[\"Matches Played\"]=df[\"Matches Played\"].astype(int)\n",
    "df[\"Goals Scored\"]=df[\"Goals Scored\"].astype(int)\n",
    "df[\"Avg Goals Per Game\"]=df[\"Avg Goals Per Game\"].astype(float)"
   ]
  },
  {
   "cell_type": "code",
   "execution_count": 6,
   "id": "a3816639",
   "metadata": {},
   "outputs": [
    {
     "name": "stdout",
     "output_type": "stream",
     "text": [
      "<class 'pandas.core.frame.DataFrame'>\n",
      "Int64Index: 21 entries, 0 to 20\n",
      "Data columns (total 9 columns):\n",
      " #   Column              Non-Null Count  Dtype  \n",
      "---  ------              --------------  -----  \n",
      " 0   Year                21 non-null     int32  \n",
      " 1   Host                21 non-null     object \n",
      " 2   Champion            21 non-null     object \n",
      " 3   Runner Up           21 non-null     object \n",
      " 4   Third Place         21 non-null     object \n",
      " 5   Teams               21 non-null     int32  \n",
      " 6   Matches Played      21 non-null     int32  \n",
      " 7   Goals Scored        21 non-null     int32  \n",
      " 8   Avg Goals Per Game  21 non-null     float64\n",
      "dtypes: float64(1), int32(4), object(4)\n",
      "memory usage: 1.3+ KB\n"
     ]
    }
   ],
   "source": [
    "df.info()"
   ]
  },
  {
   "cell_type": "markdown",
   "id": "bcab336e",
   "metadata": {},
   "source": [
    "# 1. Which is the best team in world cup"
   ]
  },
  {
   "cell_type": "code",
   "execution_count": 7,
   "id": "b7000c7d",
   "metadata": {},
   "outputs": [
    {
     "data": {
      "text/plain": [
       "Brazil          5\n",
       "Italy           4\n",
       "West Germany    3\n",
       "France          2\n",
       "Uruguay         2\n",
       "Argentina       2\n",
       "England         1\n",
       "Spain           1\n",
       "Germany         1\n",
       "Name: Champion, dtype: int64"
      ]
     },
     "execution_count": 7,
     "metadata": {},
     "output_type": "execute_result"
    }
   ],
   "source": [
    "df.Champion.value_counts()"
   ]
  },
  {
   "cell_type": "code",
   "execution_count": 8,
   "id": "d603953e",
   "metadata": {},
   "outputs": [
    {
     "data": {
      "text/plain": [
       "Germany    1\n",
       "Brazil     1\n",
       "Italy      1\n",
       "France     1\n",
       "Spain      1\n",
       "Name: Champion, dtype: int64"
      ]
     },
     "execution_count": 8,
     "metadata": {},
     "output_type": "execute_result"
    }
   ],
   "source": [
    "df[df['Year']>2000]['Champion'].value_counts()"
   ]
  },
  {
   "cell_type": "code",
   "execution_count": 9,
   "id": "82457f76",
   "metadata": {},
   "outputs": [
    {
     "data": {
      "image/png": "[encoded data removed]",
      "text/plain": [
       "<Figure size 432x288 with 1 Axes>"
      ]
     },
     "metadata": {
      "needs_background": "light"
     },
     "output_type": "display_data"
    }
   ],
   "source": [
    "df[\"Champion\"].value_counts().plot(kind=\"bar\")\n",
    "plt.title(\"WC Champions\")\n",
    "plt.ylabel(\"No. of Times Champion\")\n",
    "plt.xlabel(\"Country\")\n",
    "plt.show()"
   ]
  },
  {
   "cell_type": "markdown",
   "id": "a793e0e4",
   "metadata": {},
   "source": [
    "Brazil is the best team in wc history. "
   ]
  },
  {
   "cell_type": "markdown",
   "id": "1af5be68",
   "metadata": {},
   "source": [
    "# 2. Which is the best team in 90's era"
   ]
  },
  {
   "cell_type": "code",
   "execution_count": 10,
   "id": "952fd9eb",
   "metadata": {},
   "outputs": [
    {
     "data": {
      "text/plain": [
       "Brazil          4\n",
       "Italy           3\n",
       "West Germany    3\n",
       "Uruguay         2\n",
       "Argentina       2\n",
       "France          1\n",
       "England         1\n",
       "Name: Champion, dtype: int64"
      ]
     },
     "execution_count": 10,
     "metadata": {},
     "output_type": "execute_result"
    }
   ],
   "source": [
    "df[df['Year']<2000]['Champion'].value_counts()"
   ]
  },
  {
   "cell_type": "code",
   "execution_count": 12,
   "id": "07999f0f",
   "metadata": {},
   "outputs": [
    {
     "data": {
      "image/png": "[encoded data removed]",
      "text/plain": [
       "<Figure size 432x288 with 1 Axes>"
      ]
     },
     "metadata": {
      "needs_background": "light"
     },
     "output_type": "display_data"
    }
   ],
   "source": [
    "df[df['Year']<2000]['Champion'].value_counts().plot(kind=\"bar\")\n",
    "plt.title(\"WC Champions in 90's era \")\n",
    "plt.ylabel(\"No. of Times Champion\")\n",
    "plt.xlabel(\"Country\")\n",
    "plt.show()"
   ]
  },
  {
   "cell_type": "markdown",
   "id": "37adbeb6",
   "metadata": {},
   "source": [
    "Brazil is the best team in 90's era"
   ]
  },
  {
   "cell_type": "markdown",
   "id": "f2aed10d",
   "metadata": {},
   "source": [
    "# 3. Host winning world cup"
   ]
  },
  {
   "cell_type": "code",
   "execution_count": 14,
   "id": "86849879",
   "metadata": {},
   "outputs": [
    {
     "data": {
      "image/png": "[encoded data removed]",
      "text/plain": [
       "<Figure size 432x288 with 2 Axes>"
      ]
     },
     "metadata": {
      "needs_background": "light"
     },
     "output_type": "display_data"
    }
   ],
   "source": [
    "corr = df.corr()\n",
    "sns.heatmap(corr,annot=True)\n",
    "plt.show()"
   ]
  },
  {
   "cell_type": "code",
   "execution_count": 15,
   "id": "614df4a6",
   "metadata": {},
   "outputs": [
    {
     "data": {
      "image/png": "[encoded data removed]",
      "text/plain": [
       "<Figure size 504x504 with 1 Axes>"
      ]
     },
     "metadata": {
      "needs_background": "light"
     },
     "output_type": "display_data"
    }
   ],
   "source": [
    "plt.figure(figsize=(7,7))\n",
    "sns.scatterplot(data=df,x=\"Year\",y=\"Host\",hue=\"Champion\")\n",
    "plt.xlim(1928,2020)\n",
    "plt.grid()\n",
    "plt.title(\"WC Winners\")\n",
    "plt.show()"
   ]
  },
  {
   "cell_type": "code",
   "execution_count": 16,
   "id": "b08a1049",
   "metadata": {},
   "outputs": [
    {
     "data": {
      "text/html": [
       "<div>\n",
       "<style scoped>\n",
       "    .dataframe tbody tr th:only-of-type {\n",
       "        vertical-align: middle;\n",
       "    }\n",
       "\n",
       "    .dataframe tbody tr th {\n",
       "        vertical-align: top;\n",
       "    }\n",
       "\n",
       "    .dataframe thead th {\n",
       "        text-align: right;\n",
       "    }\n",
       "</style>\n",
       "<table border=\"1\" class=\"dataframe\">\n",
       "  <thead>\n",
       "    <tr style=\"text-align: right;\">\n",
       "      <th></th>\n",
       "      <th>Year</th>\n",
       "      <th>Host</th>\n",
       "      <th>Champion</th>\n",
       "      <th>Runner Up</th>\n",
       "      <th>Third Place</th>\n",
       "      <th>Teams</th>\n",
       "      <th>Matches Played</th>\n",
       "      <th>Goals Scored</th>\n",
       "      <th>Avg Goals Per Game</th>\n",
       "    </tr>\n",
       "  </thead>\n",
       "  <tbody>\n",
       "    <tr>\n",
       "      <th>5</th>\n",
       "      <td>1998</td>\n",
       "      <td>France</td>\n",
       "      <td>France</td>\n",
       "      <td>Brazil</td>\n",
       "      <td>Croatia</td>\n",
       "      <td>32</td>\n",
       "      <td>64</td>\n",
       "      <td>171</td>\n",
       "      <td>2.7</td>\n",
       "    </tr>\n",
       "    <tr>\n",
       "      <th>10</th>\n",
       "      <td>1978</td>\n",
       "      <td>Argentina</td>\n",
       "      <td>Argentina</td>\n",
       "      <td>Netherlands</td>\n",
       "      <td>Brazil</td>\n",
       "      <td>16</td>\n",
       "      <td>38</td>\n",
       "      <td>102</td>\n",
       "      <td>2.7</td>\n",
       "    </tr>\n",
       "    <tr>\n",
       "      <th>11</th>\n",
       "      <td>1974</td>\n",
       "      <td>West Germany</td>\n",
       "      <td>West Germany</td>\n",
       "      <td>Netherlands</td>\n",
       "      <td>Poland</td>\n",
       "      <td>16</td>\n",
       "      <td>38</td>\n",
       "      <td>97</td>\n",
       "      <td>2.6</td>\n",
       "    </tr>\n",
       "    <tr>\n",
       "      <th>13</th>\n",
       "      <td>1966</td>\n",
       "      <td>England</td>\n",
       "      <td>England</td>\n",
       "      <td>West Germany</td>\n",
       "      <td>Portugal</td>\n",
       "      <td>16</td>\n",
       "      <td>32</td>\n",
       "      <td>89</td>\n",
       "      <td>2.8</td>\n",
       "    </tr>\n",
       "    <tr>\n",
       "      <th>19</th>\n",
       "      <td>1934</td>\n",
       "      <td>Italy</td>\n",
       "      <td>Italy</td>\n",
       "      <td>Czechoslovakia</td>\n",
       "      <td>Germany</td>\n",
       "      <td>16</td>\n",
       "      <td>17</td>\n",
       "      <td>70</td>\n",
       "      <td>4.1</td>\n",
       "    </tr>\n",
       "    <tr>\n",
       "      <th>20</th>\n",
       "      <td>1930</td>\n",
       "      <td>Uruguay</td>\n",
       "      <td>Uruguay</td>\n",
       "      <td>Argentina</td>\n",
       "      <td>United States</td>\n",
       "      <td>13</td>\n",
       "      <td>16</td>\n",
       "      <td>70</td>\n",
       "      <td>3.6</td>\n",
       "    </tr>\n",
       "  </tbody>\n",
       "</table>\n",
       "</div>"
      ],
      "text/plain": [
       "    Year          Host      Champion       Runner Up    Third Place  Teams  \\\n",
       "5   1998        France        France          Brazil        Croatia     32   \n",
       "10  1978     Argentina     Argentina     Netherlands         Brazil     16   \n",
       "11  1974  West Germany  West Germany     Netherlands         Poland     16   \n",
       "13  1966       England       England    West Germany       Portugal     16   \n",
       "19  1934         Italy         Italy  Czechoslovakia        Germany     16   \n",
       "20  1930       Uruguay       Uruguay       Argentina  United States     13   \n",
       "\n",
       "    Matches Played  Goals Scored  Avg Goals Per Game  \n",
       "5               64           171                 2.7  \n",
       "10              38           102                 2.7  \n",
       "11              38            97                 2.6  \n",
       "13              32            89                 2.8  \n",
       "19              17            70                 4.1  \n",
       "20              16            70                 3.6  "
      ]
     },
     "execution_count": 16,
     "metadata": {},
     "output_type": "execute_result"
    }
   ],
   "source": [
    "df[df['Host']==df['Champion']]"
   ]
  },
  {
   "cell_type": "markdown",
   "id": "b50d929f",
   "metadata": {},
   "source": [
    "Only six times host country win the wc."
   ]
  },
  {
   "cell_type": "markdown",
   "id": "3ecc41a9",
   "metadata": {},
   "source": [
    "# 4. Which country host most no. of world cup"
   ]
  },
  {
   "cell_type": "code",
   "execution_count": 17,
   "id": "d7afebd2",
   "metadata": {},
   "outputs": [
    {
     "data": {
      "text/plain": [
       "Mexico                2\n",
       "Brazil                2\n",
       "France                2\n",
       "Italy                 2\n",
       "Russia                1\n",
       "Spain                 1\n",
       "Switzerland           1\n",
       "United States         1\n",
       "Germany               1\n",
       "Argentina             1\n",
       "Uruguay               1\n",
       "Sweden                1\n",
       "South Korea, Japan    1\n",
       "Chile                 1\n",
       "England               1\n",
       "West Germany          1\n",
       "South Africa          1\n",
       "Name: Host, dtype: int64"
      ]
     },
     "execution_count": 17,
     "metadata": {},
     "output_type": "execute_result"
    }
   ],
   "source": [
    "df[\"Host\"].value_counts()"
   ]
  },
  {
   "cell_type": "code",
   "execution_count": 22,
   "id": "9e3586df",
   "metadata": {},
   "outputs": [
    {
     "data": {
      "image/png": "[encoded data removed]",
      "text/plain": [
       "<Figure size 432x432 with 1 Axes>"
      ]
     },
     "metadata": {
      "needs_background": "light"
     },
     "output_type": "display_data"
    }
   ],
   "source": [
    "plt.figure(figsize=(6,6))\n",
    "sns.countplot(data=df,x=\"Host\")\n",
    "plt.title(\"Wc Host Countries\")\n",
    "plt.ylabel(\"No. Of Times Host\")\n",
    "plt.xticks(rotation=90)\n",
    "plt.show()"
   ]
  },
  {
   "cell_type": "markdown",
   "id": "a2faa68b",
   "metadata": {},
   "source": [
    "Brazil, France, Italy, Mexico host most no. of Wc that is two times."
   ]
  },
  {
   "cell_type": "markdown",
   "id": "dad03a13",
   "metadata": {},
   "source": [
    "# 4. No. of goals scored per year and average goals per game per year increasing or not ?"
   ]
  },
  {
   "cell_type": "code",
   "execution_count": 25,
   "id": "b777a31d",
   "metadata": {},
   "outputs": [
    {
     "data": {
      "image/png": "[encoded data removed]",
      "text/plain": [
       "<Figure size 432x288 with 1 Axes>"
      ]
     },
     "metadata": {
      "needs_background": "light"
     },
     "output_type": "display_data"
    }
   ],
   "source": [
    "plt.plot(df[\"Year\"],df[\"Goals Scored\"])\n",
    "plt.title(\"WC Goals\")\n",
    "plt.xlabel(\"Year\")\n",
    "plt.ylabel(\"No. Of Goals Scored\")\n",
    "plt.show()"
   ]
  },
  {
   "cell_type": "code",
   "execution_count": 28,
   "id": "badd4f08",
   "metadata": {},
   "outputs": [
    {
     "data": {
      "image/png": "[encoded data removed]",
      "text/plain": [
       "<Figure size 432x288 with 1 Axes>"
      ]
     },
     "metadata": {
      "needs_background": "light"
     },
     "output_type": "display_data"
    }
   ],
   "source": [
    "plt.plot(df[\"Year\"],df[\"Avg Goals Per Game\"])\n",
    "plt.title(\"WC Avrg Goals Per Game Per Year\")\n",
    "plt.xlabel(\"Year\")\n",
    "plt.ylabel(\"Avrg Goals Per Game\")\n",
    "plt.show()\n",
    "plt.show()"
   ]
  },
  {
   "cell_type": "markdown",
   "id": "776e5f10",
   "metadata": {},
   "source": [
    "Goals Scored per year is increasing."
   ]
  },
  {
   "cell_type": "markdown",
   "id": "603fdcf9",
   "metadata": {},
   "source": [
    "# 5. No.of Matches per year "
   ]
  },
  {
   "cell_type": "code",
   "execution_count": 29,
   "id": "266622fd",
   "metadata": {},
   "outputs": [
    {
     "data": {
      "image/png": "[encoded data removed]",
      "text/plain": [
       "<Figure size 504x504 with 1 Axes>"
      ]
     },
     "metadata": {
      "needs_background": "light"
     },
     "output_type": "display_data"
    }
   ],
   "source": [
    "plt.figure(figsize=(7,7))\n",
    "sns.scatterplot(data=df,x=\"Year\",y=\"Goals Scored\",hue=\"Matches Played\")\n",
    "plt.title(\"No. Of Matches Per Year\")\n",
    "plt.ylim(50,200)\n",
    "plt.xlim(1928,2022)\n",
    "plt.grid()"
   ]
  },
  {
   "cell_type": "markdown",
   "id": "ae2c6da1",
   "metadata": {},
   "source": [
    "no. of matches played per year is increasing."
   ]
  },
  {
   "cell_type": "markdown",
   "id": "283cc347",
   "metadata": {},
   "source": [
    "# 6. Max and min no. of goals scored in which year ?"
   ]
  },
  {
   "cell_type": "code",
   "execution_count": 30,
   "id": "9e1ad4c1",
   "metadata": {},
   "outputs": [
    {
     "data": {
      "text/plain": [
       "171"
      ]
     },
     "execution_count": 30,
     "metadata": {},
     "output_type": "execute_result"
    }
   ],
   "source": [
    "df[\"Goals Scored\"].max()"
   ]
  },
  {
   "cell_type": "code",
   "execution_count": 31,
   "id": "079c4771",
   "metadata": {},
   "outputs": [
    {
     "data": {
      "text/plain": [
       "1    2014\n",
       "5    1998\n",
       "Name: Year, dtype: int32"
      ]
     },
     "execution_count": 31,
     "metadata": {},
     "output_type": "execute_result"
    }
   ],
   "source": [
    "df[df[\"Goals Scored\"]==171][\"Year\"]"
   ]
  },
  {
   "cell_type": "code",
   "execution_count": 32,
   "id": "6b5d6af8",
   "metadata": {},
   "outputs": [
    {
     "data": {
      "text/plain": [
       "70"
      ]
     },
     "execution_count": 32,
     "metadata": {},
     "output_type": "execute_result"
    }
   ],
   "source": [
    "df[\"Goals Scored\"].min()"
   ]
  },
  {
   "cell_type": "code",
   "execution_count": 33,
   "id": "c3654ea1",
   "metadata": {},
   "outputs": [
    {
     "data": {
      "text/plain": [
       "19    1934\n",
       "20    1930\n",
       "Name: Year, dtype: int32"
      ]
     },
     "execution_count": 33,
     "metadata": {},
     "output_type": "execute_result"
    }
   ],
   "source": [
    "df[df[\"Goals Scored\"]==70][\"Year\"]"
   ]
  },
  {
   "cell_type": "markdown",
   "id": "707e1493",
   "metadata": {},
   "source": [
    "max no. of goals scored in 1998 and 2014.\n",
    "and min no. og goals scored in 1930 and 1934."
   ]
  },
  {
   "cell_type": "markdown",
   "id": "b048ace0",
   "metadata": {},
   "source": [
    "# 7. France wins world cup in which years."
   ]
  },
  {
   "cell_type": "code",
   "execution_count": 34,
   "id": "4dc6e675",
   "metadata": {},
   "outputs": [
    {
     "data": {
      "text/plain": [
       "0    2018\n",
       "5    1998\n",
       "Name: Year, dtype: int32"
      ]
     },
     "execution_count": 34,
     "metadata": {},
     "output_type": "execute_result"
    }
   ],
   "source": [
    "df[df['Champion']=='France']['Year']"
   ]
  },
  {
   "cell_type": "code",
   "execution_count": 35,
   "id": "0f25eecf",
   "metadata": {},
   "outputs": [
    {
     "data": {
      "text/html": [
       "<div>\n",
       "<style scoped>\n",
       "    .dataframe tbody tr th:only-of-type {\n",
       "        vertical-align: middle;\n",
       "    }\n",
       "\n",
       "    .dataframe tbody tr th {\n",
       "        vertical-align: top;\n",
       "    }\n",
       "\n",
       "    .dataframe thead th {\n",
       "        text-align: right;\n",
       "    }\n",
       "</style>\n",
       "<table border=\"1\" class=\"dataframe\">\n",
       "  <thead>\n",
       "    <tr style=\"text-align: right;\">\n",
       "      <th></th>\n",
       "      <th>Year</th>\n",
       "      <th>Host</th>\n",
       "      <th>Champion</th>\n",
       "      <th>Runner Up</th>\n",
       "      <th>Third Place</th>\n",
       "      <th>Teams</th>\n",
       "      <th>Matches Played</th>\n",
       "      <th>Goals Scored</th>\n",
       "      <th>Avg Goals Per Game</th>\n",
       "    </tr>\n",
       "  </thead>\n",
       "  <tbody>\n",
       "    <tr>\n",
       "      <th>0</th>\n",
       "      <td>2018</td>\n",
       "      <td>Russia</td>\n",
       "      <td>France</td>\n",
       "      <td>Croatia</td>\n",
       "      <td>Belgium</td>\n",
       "      <td>32</td>\n",
       "      <td>64</td>\n",
       "      <td>169</td>\n",
       "      <td>2.6</td>\n",
       "    </tr>\n",
       "    <tr>\n",
       "      <th>5</th>\n",
       "      <td>1998</td>\n",
       "      <td>France</td>\n",
       "      <td>France</td>\n",
       "      <td>Brazil</td>\n",
       "      <td>Croatia</td>\n",
       "      <td>32</td>\n",
       "      <td>64</td>\n",
       "      <td>171</td>\n",
       "      <td>2.7</td>\n",
       "    </tr>\n",
       "  </tbody>\n",
       "</table>\n",
       "</div>"
      ],
      "text/plain": [
       "   Year    Host Champion Runner Up Third Place  Teams  Matches Played  \\\n",
       "0  2018  Russia   France   Croatia     Belgium     32              64   \n",
       "5  1998  France   France    Brazil     Croatia     32              64   \n",
       "\n",
       "   Goals Scored  Avg Goals Per Game  \n",
       "0           169                 2.6  \n",
       "5           171                 2.7  "
      ]
     },
     "execution_count": 35,
     "metadata": {},
     "output_type": "execute_result"
    }
   ],
   "source": [
    "df[(df[\"Champion\"] == \"France\")]"
   ]
  },
  {
   "cell_type": "markdown",
   "id": "9bb10b87",
   "metadata": {},
   "source": [
    "france wins wc in 1938 and 2018. "
   ]
  },
  {
   "cell_type": "markdown",
   "id": "27a749ce",
   "metadata": {},
   "source": [
    "# 8. Italy Uruguay and argentina wins world cup in which years"
   ]
  },
  {
   "cell_type": "code",
   "execution_count": 39,
   "id": "39fe07b5",
   "metadata": {},
   "outputs": [
    {
     "data": {
      "text/html": [
       "<div>\n",
       "<style scoped>\n",
       "    .dataframe tbody tr th:only-of-type {\n",
       "        vertical-align: middle;\n",
       "    }\n",
       "\n",
       "    .dataframe tbody tr th {\n",
       "        vertical-align: top;\n",
       "    }\n",
       "\n",
       "    .dataframe thead th {\n",
       "        text-align: right;\n",
       "    }\n",
       "</style>\n",
       "<table border=\"1\" class=\"dataframe\">\n",
       "  <thead>\n",
       "    <tr style=\"text-align: right;\">\n",
       "      <th></th>\n",
       "      <th>Year</th>\n",
       "      <th>Host</th>\n",
       "      <th>Champion</th>\n",
       "      <th>Runner Up</th>\n",
       "      <th>Third Place</th>\n",
       "      <th>Teams</th>\n",
       "      <th>Matches Played</th>\n",
       "      <th>Goals Scored</th>\n",
       "      <th>Avg Goals Per Game</th>\n",
       "    </tr>\n",
       "  </thead>\n",
       "  <tbody>\n",
       "    <tr>\n",
       "      <th>3</th>\n",
       "      <td>2006</td>\n",
       "      <td>Germany</td>\n",
       "      <td>Italy</td>\n",
       "      <td>France</td>\n",
       "      <td>Germany</td>\n",
       "      <td>32</td>\n",
       "      <td>64</td>\n",
       "      <td>147</td>\n",
       "      <td>2.3</td>\n",
       "    </tr>\n",
       "    <tr>\n",
       "      <th>8</th>\n",
       "      <td>1986</td>\n",
       "      <td>Mexico</td>\n",
       "      <td>Argentina</td>\n",
       "      <td>West Germany</td>\n",
       "      <td>France</td>\n",
       "      <td>24</td>\n",
       "      <td>52</td>\n",
       "      <td>132</td>\n",
       "      <td>2.5</td>\n",
       "    </tr>\n",
       "    <tr>\n",
       "      <th>9</th>\n",
       "      <td>1982</td>\n",
       "      <td>Spain</td>\n",
       "      <td>Italy</td>\n",
       "      <td>West Germany</td>\n",
       "      <td>Poland</td>\n",
       "      <td>24</td>\n",
       "      <td>52</td>\n",
       "      <td>146</td>\n",
       "      <td>2.8</td>\n",
       "    </tr>\n",
       "    <tr>\n",
       "      <th>10</th>\n",
       "      <td>1978</td>\n",
       "      <td>Argentina</td>\n",
       "      <td>Argentina</td>\n",
       "      <td>Netherlands</td>\n",
       "      <td>Brazil</td>\n",
       "      <td>16</td>\n",
       "      <td>38</td>\n",
       "      <td>102</td>\n",
       "      <td>2.7</td>\n",
       "    </tr>\n",
       "    <tr>\n",
       "      <th>17</th>\n",
       "      <td>1950</td>\n",
       "      <td>Brazil</td>\n",
       "      <td>Uruguay</td>\n",
       "      <td>Brazil</td>\n",
       "      <td>Sweden</td>\n",
       "      <td>13</td>\n",
       "      <td>22</td>\n",
       "      <td>88</td>\n",
       "      <td>4.0</td>\n",
       "    </tr>\n",
       "    <tr>\n",
       "      <th>18</th>\n",
       "      <td>1938</td>\n",
       "      <td>France</td>\n",
       "      <td>Italy</td>\n",
       "      <td>Hungary</td>\n",
       "      <td>Brazil</td>\n",
       "      <td>15</td>\n",
       "      <td>18</td>\n",
       "      <td>84</td>\n",
       "      <td>4.7</td>\n",
       "    </tr>\n",
       "    <tr>\n",
       "      <th>19</th>\n",
       "      <td>1934</td>\n",
       "      <td>Italy</td>\n",
       "      <td>Italy</td>\n",
       "      <td>Czechoslovakia</td>\n",
       "      <td>Germany</td>\n",
       "      <td>16</td>\n",
       "      <td>17</td>\n",
       "      <td>70</td>\n",
       "      <td>4.1</td>\n",
       "    </tr>\n",
       "    <tr>\n",
       "      <th>20</th>\n",
       "      <td>1930</td>\n",
       "      <td>Uruguay</td>\n",
       "      <td>Uruguay</td>\n",
       "      <td>Argentina</td>\n",
       "      <td>United States</td>\n",
       "      <td>13</td>\n",
       "      <td>16</td>\n",
       "      <td>70</td>\n",
       "      <td>3.6</td>\n",
       "    </tr>\n",
       "  </tbody>\n",
       "</table>\n",
       "</div>"
      ],
      "text/plain": [
       "    Year       Host   Champion       Runner Up    Third Place  Teams  \\\n",
       "3   2006    Germany      Italy          France        Germany     32   \n",
       "8   1986     Mexico  Argentina    West Germany         France     24   \n",
       "9   1982      Spain      Italy    West Germany         Poland     24   \n",
       "10  1978  Argentina  Argentina     Netherlands         Brazil     16   \n",
       "17  1950     Brazil    Uruguay          Brazil         Sweden     13   \n",
       "18  1938     France      Italy         Hungary         Brazil     15   \n",
       "19  1934      Italy      Italy  Czechoslovakia        Germany     16   \n",
       "20  1930    Uruguay    Uruguay       Argentina  United States     13   \n",
       "\n",
       "    Matches Played  Goals Scored  Avg Goals Per Game  \n",
       "3               64           147                 2.3  \n",
       "8               52           132                 2.5  \n",
       "9               52           146                 2.8  \n",
       "10              38           102                 2.7  \n",
       "17              22            88                 4.0  \n",
       "18              18            84                 4.7  \n",
       "19              17            70                 4.1  \n",
       "20              16            70                 3.6  "
      ]
     },
     "execution_count": 39,
     "metadata": {},
     "output_type": "execute_result"
    }
   ],
   "source": [
    "df[(df[\"Champion\"] == \"Italy\") | (df[\"Champion\"] == \"Uruguay\") | (df[\"Champion\"] == \"Argentina\") ]"
   ]
  },
  {
   "cell_type": "markdown",
   "id": "57751ea1",
   "metadata": {},
   "source": [
    "Italy wins wc in 1934,1938,1982,2006, Uruguay wins wc in 1930,1950, \n",
    "Argentina wins wc in 1978,1986"
   ]
  },
  {
   "cell_type": "markdown",
   "id": "d23e55fd",
   "metadata": {},
   "source": [
    "# 9. Brazil, Italy, Sweden Runner Up in which years?"
   ]
  },
  {
   "cell_type": "code",
   "execution_count": 42,
   "id": "2bff25b7",
   "metadata": {},
   "outputs": [
    {
     "data": {
      "text/html": [
       "<div>\n",
       "<style scoped>\n",
       "    .dataframe tbody tr th:only-of-type {\n",
       "        vertical-align: middle;\n",
       "    }\n",
       "\n",
       "    .dataframe tbody tr th {\n",
       "        vertical-align: top;\n",
       "    }\n",
       "\n",
       "    .dataframe thead th {\n",
       "        text-align: right;\n",
       "    }\n",
       "</style>\n",
       "<table border=\"1\" class=\"dataframe\">\n",
       "  <thead>\n",
       "    <tr style=\"text-align: right;\">\n",
       "      <th></th>\n",
       "      <th>Year</th>\n",
       "      <th>Host</th>\n",
       "      <th>Champion</th>\n",
       "      <th>Runner Up</th>\n",
       "      <th>Third Place</th>\n",
       "      <th>Teams</th>\n",
       "      <th>Matches Played</th>\n",
       "      <th>Goals Scored</th>\n",
       "      <th>Avg Goals Per Game</th>\n",
       "    </tr>\n",
       "  </thead>\n",
       "  <tbody>\n",
       "    <tr>\n",
       "      <th>5</th>\n",
       "      <td>1998</td>\n",
       "      <td>France</td>\n",
       "      <td>France</td>\n",
       "      <td>Brazil</td>\n",
       "      <td>Croatia</td>\n",
       "      <td>32</td>\n",
       "      <td>64</td>\n",
       "      <td>171</td>\n",
       "      <td>2.7</td>\n",
       "    </tr>\n",
       "    <tr>\n",
       "      <th>6</th>\n",
       "      <td>1994</td>\n",
       "      <td>United States</td>\n",
       "      <td>Brazil</td>\n",
       "      <td>Italy</td>\n",
       "      <td>Sweden</td>\n",
       "      <td>24</td>\n",
       "      <td>52</td>\n",
       "      <td>141</td>\n",
       "      <td>2.7</td>\n",
       "    </tr>\n",
       "    <tr>\n",
       "      <th>12</th>\n",
       "      <td>1970</td>\n",
       "      <td>Mexico</td>\n",
       "      <td>Brazil</td>\n",
       "      <td>Italy</td>\n",
       "      <td>West Germany</td>\n",
       "      <td>16</td>\n",
       "      <td>32</td>\n",
       "      <td>95</td>\n",
       "      <td>3.0</td>\n",
       "    </tr>\n",
       "    <tr>\n",
       "      <th>15</th>\n",
       "      <td>1958</td>\n",
       "      <td>Sweden</td>\n",
       "      <td>Brazil</td>\n",
       "      <td>Sweden</td>\n",
       "      <td>France</td>\n",
       "      <td>16</td>\n",
       "      <td>35</td>\n",
       "      <td>126</td>\n",
       "      <td>3.6</td>\n",
       "    </tr>\n",
       "    <tr>\n",
       "      <th>17</th>\n",
       "      <td>1950</td>\n",
       "      <td>Brazil</td>\n",
       "      <td>Uruguay</td>\n",
       "      <td>Brazil</td>\n",
       "      <td>Sweden</td>\n",
       "      <td>13</td>\n",
       "      <td>22</td>\n",
       "      <td>88</td>\n",
       "      <td>4.0</td>\n",
       "    </tr>\n",
       "  </tbody>\n",
       "</table>\n",
       "</div>"
      ],
      "text/plain": [
       "    Year           Host Champion Runner Up   Third Place  Teams  \\\n",
       "5   1998         France   France    Brazil       Croatia     32   \n",
       "6   1994  United States   Brazil     Italy        Sweden     24   \n",
       "12  1970         Mexico   Brazil     Italy  West Germany     16   \n",
       "15  1958         Sweden   Brazil    Sweden        France     16   \n",
       "17  1950         Brazil  Uruguay    Brazil        Sweden     13   \n",
       "\n",
       "    Matches Played  Goals Scored  Avg Goals Per Game  \n",
       "5               64           171                 2.7  \n",
       "6               52           141                 2.7  \n",
       "12              32            95                 3.0  \n",
       "15              35           126                 3.6  \n",
       "17              22            88                 4.0  "
      ]
     },
     "execution_count": 42,
     "metadata": {},
     "output_type": "execute_result"
    }
   ],
   "source": [
    "df[df[\"Runner Up\"].isin([\"Brazil\",\"Italy\",\"Sweden\"])]"
   ]
  },
  {
   "cell_type": "markdown",
   "id": "b05af40b",
   "metadata": {},
   "source": [
    "Brazil runner up in 1950,1998, Italy runner up in 1970,1994, Sweden runner up in 1958"
   ]
  },
  {
   "cell_type": "markdown",
   "id": "ce8a07d6",
   "metadata": {},
   "source": [
    "# 10. United States finished at third place in which year?"
   ]
  },
  {
   "cell_type": "code",
   "execution_count": 43,
   "id": "7b30b4d3",
   "metadata": {},
   "outputs": [
    {
     "data": {
      "text/html": [
       "<div>\n",
       "<style scoped>\n",
       "    .dataframe tbody tr th:only-of-type {\n",
       "        vertical-align: middle;\n",
       "    }\n",
       "\n",
       "    .dataframe tbody tr th {\n",
       "        vertical-align: top;\n",
       "    }\n",
       "\n",
       "    .dataframe thead th {\n",
       "        text-align: right;\n",
       "    }\n",
       "</style>\n",
       "<table border=\"1\" class=\"dataframe\">\n",
       "  <thead>\n",
       "    <tr style=\"text-align: right;\">\n",
       "      <th></th>\n",
       "      <th>Year</th>\n",
       "      <th>Host</th>\n",
       "      <th>Champion</th>\n",
       "      <th>Runner Up</th>\n",
       "      <th>Third Place</th>\n",
       "      <th>Teams</th>\n",
       "      <th>Matches Played</th>\n",
       "      <th>Goals Scored</th>\n",
       "      <th>Avg Goals Per Game</th>\n",
       "    </tr>\n",
       "  </thead>\n",
       "  <tbody>\n",
       "    <tr>\n",
       "      <th>20</th>\n",
       "      <td>1930</td>\n",
       "      <td>Uruguay</td>\n",
       "      <td>Uruguay</td>\n",
       "      <td>Argentina</td>\n",
       "      <td>United States</td>\n",
       "      <td>13</td>\n",
       "      <td>16</td>\n",
       "      <td>70</td>\n",
       "      <td>3.6</td>\n",
       "    </tr>\n",
       "  </tbody>\n",
       "</table>\n",
       "</div>"
      ],
      "text/plain": [
       "    Year     Host Champion  Runner Up    Third Place  Teams  Matches Played  \\\n",
       "20  1930  Uruguay  Uruguay  Argentina  United States     13              16   \n",
       "\n",
       "    Goals Scored  Avg Goals Per Game  \n",
       "20            70                 3.6  "
      ]
     },
     "execution_count": 43,
     "metadata": {},
     "output_type": "execute_result"
    }
   ],
   "source": [
    "df[df[\"Third Place\"].str.contains(\"United States\")]"
   ]
  },
  {
   "cell_type": "markdown",
   "id": "6b3927be",
   "metadata": {},
   "source": [
    "United States finished at third place in 1930."
   ]
  },
  {
   "cell_type": "markdown",
   "id": "8f26e74e",
   "metadata": {},
   "source": [
    "# 11. who is the inaugural world cup winner."
   ]
  },
  {
   "cell_type": "code",
   "execution_count": 46,
   "id": "cc3b27a6",
   "metadata": {},
   "outputs": [
    {
     "data": {
      "text/plain": [
       "20    Uruguay\n",
       "Name: Champion, dtype: object"
      ]
     },
     "execution_count": 46,
     "metadata": {},
     "output_type": "execute_result"
    }
   ],
   "source": [
    "df[df['Year']==1930]['Champion']"
   ]
  },
  {
   "cell_type": "markdown",
   "id": "5fb3c856",
   "metadata": {},
   "source": [
    "Uruguay is the inaugaral wc winner."
   ]
  },
  {
   "cell_type": "markdown",
   "id": "94c3abb8",
   "metadata": {},
   "source": [
    "# 12.How many times unique team wins world cup ?"
   ]
  },
  {
   "cell_type": "code",
   "execution_count": 47,
   "id": "2ad8a576",
   "metadata": {},
   "outputs": [
    {
     "data": {
      "text/plain": [
       "9"
      ]
     },
     "execution_count": 47,
     "metadata": {},
     "output_type": "execute_result"
    }
   ],
   "source": [
    "df.Champion.nunique()"
   ]
  },
  {
   "cell_type": "markdown",
   "id": "4c0120fd",
   "metadata": {},
   "source": [
    "there are 9 occasions when new team wins wc."
   ]
  },
  {
   "cell_type": "code",
   "execution_count": 15,
   "id": "d33e8462",
   "metadata": {},
   "outputs": [
    {
     "data": {
      "text/plain": [
       "Brazil          5\n",
       "Italy           4\n",
       "West Germany    3\n",
       "France          2\n",
       "Uruguay         2\n",
       "Argentina       2\n",
       "England         1\n",
       "Spain           1\n",
       "Germany         1\n",
       "Name: Champion, dtype: int64"
      ]
     },
     "execution_count": 15,
     "metadata": {},
     "output_type": "execute_result"
    }
   ],
   "source": [
    "df[\"Champion\"].value_counts()"
   ]
  },
  {
   "cell_type": "code",
   "execution_count": 10,
   "id": "58042e1c",
   "metadata": {},
   "outputs": [
    {
     "data": {
      "text/plain": [
       "Netherlands       3\n",
       "Argentina         3\n",
       "West Germany      3\n",
       "Italy             2\n",
       "Hungary           2\n",
       "Brazil            2\n",
       "Czechoslovakia    2\n",
       "Sweden            1\n",
       "Croatia           1\n",
       "France            1\n",
       "Germany           1\n",
       "Name: Runner Up, dtype: int64"
      ]
     },
     "execution_count": 10,
     "metadata": {},
     "output_type": "execute_result"
    }
   ],
   "source": [
    "df[\"Runner Up\"].value_counts()"
   ]
  },
  {
   "cell_type": "code",
   "execution_count": 17,
   "id": "34fb7451",
   "metadata": {},
   "outputs": [
    {
     "data": {
      "text/plain": [
       "71.42857142857143"
      ]
     },
     "execution_count": 17,
     "metadata": {},
     "output_type": "execute_result"
    }
   ],
   "source": [
    "# Brazil wins world cup 5 times.\n",
    "# Total appearance in world cup final 7 times.\n",
    "chances = 5*100/7\n",
    "chances"
   ]
  },
  {
   "cell_type": "code",
   "execution_count": 19,
   "id": "9241bcac",
   "metadata": {},
   "outputs": [
    {
     "data": {
      "text/plain": [
       "66.66666666666667"
      ]
     },
     "execution_count": 19,
     "metadata": {},
     "output_type": "execute_result"
    }
   ],
   "source": [
    "# Italy wins world cup 4 times.\n",
    "# Total appearance in world cup final 6 times.\n",
    "chances1 = 4*100/6\n",
    "chances1"
   ]
  },
  {
   "cell_type": "code",
   "execution_count": 20,
   "id": "579840a2",
   "metadata": {},
   "outputs": [
    {
     "data": {
      "text/plain": [
       "30.0"
      ]
     },
     "execution_count": 20,
     "metadata": {},
     "output_type": "execute_result"
    }
   ],
   "source": [
    "# Only 6 times host wins the cup final.\n",
    "# Total world cups tornament organized 21 times.\n",
    "chances2 = 6*100/20\n",
    "chances2"
   ]
  },
  {
   "cell_type": "markdown",
   "id": "db6d5c32",
   "metadata": {},
   "source": [
    "# Conclusion"
   ]
  },
  {
   "cell_type": "markdown",
   "id": "d2cea3e6",
   "metadata": {},
   "source": [
    "1. Brazil is the best team of all time in world cup.\n",
    "2. Brazil is the best team in 90's era.\n",
    "3. Brazil wins world cup 5 times and runner up 2 times.\n",
    "4. Italy wins world cup 4 times and runner up 2 times.\n",
    "5. In last 20 years there are unique world cup winners so there is no team particularly dominating.\n",
    "6. Only 6 times team wins the world cup while hosting the tournament which means that there are more pressure\n",
    "   on hosts and there are less chances to win world cup while hosting.\n",
    "7. In world cup history only 9 unique teams wins the world cup.\n",
    "8. Goals scored per year ratio is increasing."
   ]
  },
  {
   "cell_type": "markdown",
   "id": "fc13b0c8",
   "metadata": {},
   "source": [
    "\n",
    "\n",
    "From above points we colclude that if Brazil or Italy qualifies for world cup final then brazil have 71.42% chance of winning the world cup and Italy have 66.66% chance of winning the world cup.\n",
    "\n",
    "Hosting country have only 30% chance of winning the world cup.\n"
   ]
  },
  {
   "cell_type": "markdown",
   "id": "54aaf6cc",
   "metadata": {},
   "source": [
    "# Thank You"
   ]
  },
  {
   "cell_type": "code",
   "execution_count": null,
   "id": "119b61ca",
   "metadata": {},
   "outputs": [],
   "source": []
  }
 ],
 "metadata": {
  "kernelspec": {
   "display_name": "Python 3",
   "language": "python",
   "name": "python3"
  },
  "language_info": {
   "codemirror_mode": {
    "name": "ipython",
    "version": 3
   },
   "file_extension": ".py",
   "mimetype": "text/x-python",
   "name": "python",
   "nbconvert_exporter": "python",
   "pygments_lexer": "ipython3",
   "version": "3.8.8"
  }
 },
 "nbformat": 4,
 "nbformat_minor": 5
}
